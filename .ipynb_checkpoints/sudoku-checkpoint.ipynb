{
 "cells": [
  {
   "cell_type": "code",
   "execution_count": 25,
   "metadata": {},
   "outputs": [],
   "source": [
    "puzzle=[[3, 0, 6, 5, 0, 8, 4, 0, 0],\n",
    "          [5, 2, 0, 0, 0, 0, 0, 0, 0],\n",
    "          [0, 8, 7, 0, 0, 0, 0, 3, 1],\n",
    "          [0, 0, 3, 0, 1, 0, 0, 8, 0],\n",
    "          [9, 0, 0, 8, 6, 3, 0, 0, 5],\n",
    "          [0, 5, 0, 0, 9, 0, 6, 0, 0],\n",
    "          [1, 3, 0, 0, 0, 0, 2, 5, 0],\n",
    "          [0, 0, 0, 0, 0, 0, 0, 7, 4],\n",
    "          [0, 0, 5, 2, 0, 6, 3, 0, 0]]"
   ]
  },
  {
   "cell_type": "code",
   "execution_count": 26,
   "metadata": {},
   "outputs": [],
   "source": [
    "def print_puzzle(arr):\n",
    "    for i in range (0, 9):\n",
    "        for j in range (0, 9):\n",
    "            print(arr[i][j], end=\" \")\n",
    "        print()\n",
    "        \n",
    "def find_empty(arr, l):\n",
    "    for row in range(0, 9):\n",
    "        for col in range(0, 9):\n",
    "            if(arr[row][col]==0):\n",
    "                l[0]=row\n",
    "                l[1]=col\n",
    "                return True\n",
    "    return False\n",
    "\n",
    "def used_row(arr, row, num):\n",
    "    for i in range(0, 9):\n",
    "        if(arr[row][i]==num):\n",
    "            return True\n",
    "    return False\n",
    "\n",
    "def used_col(arr, col, num):\n",
    "    for j in range(0, 9):\n",
    "        if(arr[j][col]==num):\n",
    "            return True\n",
    "    return False\n",
    "\n",
    "def used_box(arr, row, col, num):\n",
    "    for i in range(0,3):\n",
    "        for j in range(0, 3):\n",
    "            if(arr[i+row][j+col]==num):\n",
    "                return True\n",
    "    return False        \n",
    "\n",
    "def check_valid(arr, row, col, num):\n",
    "    if(used_row(arr, row, num)==True):\n",
    "        return False\n",
    "    if(used_col(arr, col, num)==True):\n",
    "        return False\n",
    "    if(used_box(arr, row-row%3, col-col%3, num)==True):\n",
    "        return False\n",
    "    return True\n",
    "        \n",
    "def solve(arr):\n",
    "    l=[0, 0];\n",
    "    if(find_empty(arr, l)==False):\n",
    "        return True\n",
    "    row=l[0]\n",
    "    col=l[1]\n",
    "    \n",
    "    for num in range(1, 10):\n",
    "        if(check_valid(arr, row, col, num)==True):\n",
    "            arr[row][col]=num\n",
    "            \n",
    "            if(solve(arr)==True):\n",
    "                return True\n",
    "            arr[row][col]=0\n",
    "    return False            "
   ]
  },
  {
   "cell_type": "code",
   "execution_count": 27,
   "metadata": {},
   "outputs": [
    {
     "name": "stdout",
     "output_type": "stream",
     "text": [
      "3 1 6 5 7 8 4 9 2 \n",
      "5 2 9 1 3 4 7 6 8 \n",
      "4 8 7 6 2 9 5 3 1 \n",
      "2 6 3 4 1 5 9 8 7 \n",
      "9 7 4 8 6 3 1 2 5 \n",
      "8 5 1 7 9 2 6 4 3 \n",
      "1 3 8 9 4 7 2 5 6 \n",
      "6 9 2 3 5 1 8 7 4 \n",
      "7 4 5 2 8 6 3 1 9 \n"
     ]
    }
   ],
   "source": [
    "if(solve(puzzle)==True):\n",
    "    print_puzzle(puzzle)\n",
    "else:\n",
    "    print(\"Invalid Puzzle\")"
   ]
  },
  {
   "cell_type": "code",
   "execution_count": null,
   "metadata": {},
   "outputs": [],
   "source": []
  }
 ],
 "metadata": {
  "kernelspec": {
   "display_name": "Python 3",
   "language": "python",
   "name": "python3"
  },
  "language_info": {
   "codemirror_mode": {
    "name": "ipython",
    "version": 3
   },
   "file_extension": ".py",
   "mimetype": "text/x-python",
   "name": "python",
   "nbconvert_exporter": "python",
   "pygments_lexer": "ipython3",
   "version": "3.7.6"
  }
 },
 "nbformat": 4,
 "nbformat_minor": 4
}
