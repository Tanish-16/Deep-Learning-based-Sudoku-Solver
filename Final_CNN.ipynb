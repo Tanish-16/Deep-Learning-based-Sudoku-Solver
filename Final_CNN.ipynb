{
 "cells": [
  {
   "cell_type": "code",
   "execution_count": 61,
   "metadata": {},
   "outputs": [],
   "source": [
    "import numpy as np\n",
    "import os\n",
    "import matplotlib.pyplot as plt\n",
    "import cv2"
   ]
  },
  {
   "cell_type": "code",
   "execution_count": 62,
   "metadata": {},
   "outputs": [],
   "source": [
    "data_dir=\"myData\"\n",
    "category=[\"0\", \"1\", \"2\", \"3\", \"4\", \"5\", \"6\", \"7\", \"8\", \"9\"]"
   ]
  },
  {
   "cell_type": "code",
   "execution_count": 63,
   "metadata": {},
   "outputs": [
    {
     "data": {
      "image/png": "[encoded data removed]",
      "text/plain": [
       "<Figure size 432x288 with 1 Axes>"
      ]
     },
     "metadata": {
      "needs_background": "light"
     },
     "output_type": "display_data"
    }
   ],
   "source": [
    "for cat in category:\n",
    "    path=os.path.join(data_dir, cat)\n",
    "    for img in os.listdir(path):\n",
    "        img_array=cv2.imread(os.path.join(path, img), cv2.IMREAD_GRAYSCALE)\n",
    "        plt.imshow(img_array, cmap=\"gray\")\n",
    "        plt.show\n",
    "        break\n",
    "    break"
   ]
  },
  {
   "cell_type": "code",
   "execution_count": 84,
   "metadata": {},
   "outputs": [
    {
     "data": {
      "text/plain": [
       "<function matplotlib.pyplot.show(*args, **kw)>"
      ]
     },
     "execution_count": 84,
     "metadata": {},
     "output_type": "execute_result"
    },
    {
     "data": {
      "image/png": "[encoded data removed]",
      "text/plain": [
       "<Figure size 432x288 with 1 Axes>"
      ]
     },
     "metadata": {
      "needs_background": "light"
     },
     "output_type": "display_data"
    }
   ],
   "source": [
    "img_sz=32\n",
    "new_array=cv2.resize(img_array, (img_sz, img_sz))\n",
    "plt.imshow(new_array, cmap=\"gray\")\n",
    "plt.show"
   ]
  },
  {
   "cell_type": "code",
   "execution_count": 85,
   "metadata": {},
   "outputs": [],
   "source": [
    "data=[]\n",
    "label=[]\n",
    "def create_data():\n",
    "    for cat in category:\n",
    "        path=os.path.join(data_dir, cat)\n",
    "        class_num=category.index(cat)\n",
    "        for img in os.listdir(path):\n",
    "            try:\n",
    "                img_array=cv2.imread(os.path.join(path, img))\n",
    "                new_array=cv2.resize(img_array, (img_sz, img_sz))\n",
    "                data.append(new_array)\n",
    "                label.append(class_num)\n",
    "            except Exception as e:\n",
    "                pass\n",
    "\n",
    "create_data()"
   ]
  },
  {
   "cell_type": "code",
   "execution_count": 86,
   "metadata": {},
   "outputs": [
    {
     "name": "stdout",
     "output_type": "stream",
     "text": [
      "10160\n",
      "10160\n"
     ]
    }
   ],
   "source": [
    "print(len(data))\n",
    "print(len(label))"
   ]
  },
  {
   "cell_type": "code",
   "execution_count": 87,
   "metadata": {},
   "outputs": [
    {
     "name": "stdout",
     "output_type": "stream",
     "text": [
      "(10160, 32, 32, 3)\n"
     ]
    }
   ],
   "source": [
    "data=np.array(data)\n",
    "label=np.array(label)\n",
    "print(data.shape)"
   ]
  },
  {
   "cell_type": "code",
   "execution_count": 88,
   "metadata": {},
   "outputs": [],
   "source": [
    "from sklearn.model_selection import train_test_split\n",
    "\n",
    "\n",
    "X_train, X_test, y_train, y_test=train_test_split(data, label, test_size=0.2)\n",
    "X_train, X_validation, y_train, y_validation=train_test_split(X_train, y_train, test_size=0.2)\n",
    "\n"
   ]
  },
  {
   "cell_type": "code",
   "execution_count": 89,
   "metadata": {},
   "outputs": [
    {
     "name": "stdout",
     "output_type": "stream",
     "text": [
      "(6502, 32, 32, 3) (1626, 32, 32, 3) (2032, 32, 32, 3)\n"
     ]
    }
   ],
   "source": [
    "print(X_train.shape, X_validation.shape, X_test.shape)"
   ]
  },
  {
   "cell_type": "code",
   "execution_count": 90,
   "metadata": {},
   "outputs": [
    {
     "name": "stdout",
     "output_type": "stream",
     "text": [
      "[627, 641, 659, 654, 672, 668, 644, 655, 646, 636]\n"
     ]
    }
   ],
   "source": [
    "samples=[]\n",
    "for x in range(0, 10):\n",
    "    samples.append(len(np.where(y_train==x)[0]))\n",
    "print(samples)"
   ]
  },
  {
   "cell_type": "code",
   "execution_count": 91,
   "metadata": {},
   "outputs": [
    {
     "data": {
      "image/png": "[encoded data removed]",
      "text/plain": [
       "<Figure size 720x360 with 1 Axes>"
      ]
     },
     "metadata": {
      "needs_background": "light"
     },
     "output_type": "display_data"
    }
   ],
   "source": [
    "plt.figure(figsize=(10,5))\n",
    "plt.bar(range(0,10),samples)\n",
    "plt.title(\"No of Images for each Class\")\n",
    "plt.xlabel(\"Class ID\")\n",
    "plt.ylabel(\"Number of Images\")\n",
    "plt.show()"
   ]
  },
  {
   "cell_type": "code",
   "execution_count": 92,
   "metadata": {},
   "outputs": [],
   "source": [
    "def preProcessing(img):\n",
    "    img = cv2.cvtColor(img,cv2.COLOR_BGR2GRAY)\n",
    "    img = cv2.equalizeHist(img)\n",
    "    img = img/255\n",
    "    return img"
   ]
  },
  {
   "cell_type": "code",
   "execution_count": 93,
   "metadata": {},
   "outputs": [],
   "source": [
    "X_train= np.array(list(map(preProcessing,X_train)))\n",
    "X_test= np.array(list(map(preProcessing,X_test)))\n",
    "X_validation= np.array(list(map(preProcessing,X_validation)))\n"
   ]
  },
  {
   "cell_type": "code",
   "execution_count": 94,
   "metadata": {},
   "outputs": [],
   "source": [
    "X_train = X_train.reshape(X_train.shape[0],X_train.shape[1],X_train.shape[2],1)\n",
    "X_test = X_test.reshape(X_test.shape[0],X_test.shape[1],X_test.shape[2],1)\n",
    "X_validation = X_validation.reshape(X_validation.shape[0],X_validation.shape[1],X_validation.shape[2],1)"
   ]
  },
  {
   "cell_type": "code",
   "execution_count": 95,
   "metadata": {},
   "outputs": [],
   "source": [
    "from keras.preprocessing.image import ImageDataGenerator\n",
    "datagen=ImageDataGenerator(width_shift_range=0.1, height_shift_range=0.1, zoom_range=0.2, shear_range=0.1, rotation_range=10)\n",
    "datagen.fit(X_train)"
   ]
  },
  {
   "cell_type": "code",
   "execution_count": 96,
   "metadata": {},
   "outputs": [],
   "source": [
    "from keras.utils.np_utils import to_categorical\n",
    "y_train=to_categorical(y_train, 10)\n",
    "y_test=to_categorical(y_test, 10)\n",
    "y_validation=to_categorical(y_validation, 10)"
   ]
  },
  {
   "cell_type": "code",
   "execution_count": 97,
   "metadata": {},
   "outputs": [],
   "source": [
    "import tensorflow as tf\n",
    "model=tf.keras.Sequential()\n",
    "model.add(tf.keras.layers.Conv2D(60, (5, 5), input_shape=(32,32,1)))\n",
    "model.add(tf.keras.layers.Activation(\"relu\"))\n",
    "\n",
    "model.add(tf.keras.layers.Conv2D(60, (5,5)))\n",
    "model.add(tf.keras.layers.Activation(\"relu\"))\n",
    "model.add(tf.keras.layers.MaxPooling2D(pool_size=(2,2)))\n",
    "\n",
    "model.add(tf.keras.layers.Conv2D(30, (3, 3)))\n",
    "model.add(tf.keras.layers.Activation(\"relu\"))\n",
    "\n",
    "model.add(tf.keras.layers.Conv2D(30, (3, 3)))\n",
    "model.add(tf.keras.layers.Activation(\"relu\"))\n",
    "model.add(tf.keras.layers.MaxPooling2D(pool_size=(2,2)))\n",
    "model.add(tf.keras.layers.Dropout(0.5))\n",
    "\n",
    "model.add(tf.keras.layers.Flatten())\n",
    "model.add(tf.keras.layers.Dense(500))\n",
    "model.add(tf.keras.layers.Activation(\"relu\"))\n",
    "model.add(tf.keras.layers.Dropout(0.5))\n",
    "\n",
    "model.add(tf.keras.layers.Dense(10, activation='softmax'))\n",
    "model.compile(loss=\"categorical_crossentropy\", optimizer=tf.keras.optimizers.Adam(learning_rate=0.001) ,metrics=[\"accuracy\"])"
   ]
  },
  {
   "cell_type": "code",
   "execution_count": 98,
   "metadata": {},
   "outputs": [
    {
     "name": "stdout",
     "output_type": "stream",
     "text": [
      "Epoch 1/10\n",
      "131/131 [==============================] - 144s 1s/step - loss: 1.3493 - accuracy: 0.5312 - val_loss: 0.1492 - val_accuracy: 0.9625\n",
      "Epoch 2/10\n",
      "131/131 [==============================] - 154s 1s/step - loss: 0.4429 - accuracy: 0.8576 - val_loss: 0.0747 - val_accuracy: 0.9815\n",
      "Epoch 3/10\n",
      "131/131 [==============================] - 145s 1s/step - loss: 0.2906 - accuracy: 0.9051 - val_loss: 0.0464 - val_accuracy: 0.9871\n",
      "Epoch 4/10\n",
      "131/131 [==============================] - 144s 1s/step - loss: 0.2285 - accuracy: 0.9265 - val_loss: 0.0392 - val_accuracy: 0.9877\n",
      "Epoch 5/10\n",
      "131/131 [==============================] - 126s 962ms/step - loss: 0.1883 - accuracy: 0.9417 - val_loss: 0.0275 - val_accuracy: 0.9938\n",
      "Epoch 6/10\n",
      "131/131 [==============================] - 127s 972ms/step - loss: 0.1608 - accuracy: 0.9500 - val_loss: 0.0183 - val_accuracy: 0.9951\n",
      "Epoch 7/10\n",
      "131/131 [==============================] - 126s 961ms/step - loss: 0.1444 - accuracy: 0.9523 - val_loss: 0.0310 - val_accuracy: 0.9926\n",
      "Epoch 8/10\n",
      "131/131 [==============================] - 118s 898ms/step - loss: 0.1304 - accuracy: 0.9582 - val_loss: 0.0211 - val_accuracy: 0.9951\n",
      "Epoch 9/10\n",
      "131/131 [==============================] - 125s 957ms/step - loss: 0.1212 - accuracy: 0.9611 - val_loss: 0.0184 - val_accuracy: 0.9938\n",
      "Epoch 10/10\n",
      "131/131 [==============================] - 116s 885ms/step - loss: 0.1212 - accuracy: 0.9646 - val_loss: 0.0207 - val_accuracy: 0.9932\n"
     ]
    }
   ],
   "source": [
    "history=model.fit_generator(datagen.flow(X_train,y_train,\n",
    "                                 batch_size=50),\n",
    "                                 epochs=10,\n",
    "                                 validation_data=(X_validation,y_validation))"
   ]
  },
  {
   "cell_type": "code",
   "execution_count": 99,
   "metadata": {},
   "outputs": [
    {
     "name": "stdout",
     "output_type": "stream",
     "text": [
      "64/64 [==============================] - 10s 155ms/step - loss: 0.0323 - accuracy: 0.9872\n"
     ]
    }
   ],
   "source": [
    "test_loss, test_acc=model.evaluate(x=X_test, y=y_test)"
   ]
  },
  {
   "cell_type": "code",
   "execution_count": 100,
   "metadata": {},
   "outputs": [],
   "source": [
    "model.save('final_model.h5', history)"
   ]
  },
  {
   "cell_type": "code",
   "execution_count": 101,
   "metadata": {},
   "outputs": [],
   "source": [
    "model=tf.keras.models.load_model('final_model.h5')"
   ]
  },
  {
   "cell_type": "code",
   "execution_count": 104,
   "metadata": {},
   "outputs": [
    {
     "name": "stdout",
     "output_type": "stream",
     "text": [
      "[2]\n"
     ]
    }
   ],
   "source": [
    "from keras.preprocessing.image import load_img\n",
    "from keras.preprocessing.image import img_to_array\n",
    "img=load_img(\"two.png\", grayscale=True, target_size=(32, 32))\n",
    "img=img_to_array(img)\n",
    "img=img.reshape(1, 32, 32, 1)\n",
    "img=img.astype('float32')/255.0\n",
    "#img=np.expand_dims(img, axis=0)\n",
    "print(model.predict_classes(img))"
   ]
  },
  {
   "cell_type": "code",
   "execution_count": null,
   "metadata": {},
   "outputs": [],
   "source": []
  }
 ],
 "metadata": {
  "kernelspec": {
   "display_name": "Python 3",
   "language": "python",
   "name": "python3"
  },
  "language_info": {
   "codemirror_mode": {
    "name": "ipython",
    "version": 3
   },
   "file_extension": ".py",
   "mimetype": "text/x-python",
   "name": "python",
   "nbconvert_exporter": "python",
   "pygments_lexer": "ipython3",
   "version": "3.7.6"
  }
 },
 "nbformat": 4,
 "nbformat_minor": 4
}
