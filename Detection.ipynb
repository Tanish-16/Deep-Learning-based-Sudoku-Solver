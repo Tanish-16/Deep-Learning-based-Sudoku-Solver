{
 "cells": [
  {
   "cell_type": "code",
   "execution_count": 427,
   "metadata": {},
   "outputs": [],
   "source": [
    "import cv2\n",
    "import numpy as np\n",
    "from tensorflow.keras.models import load_model"
   ]
  },
  {
   "cell_type": "code",
   "execution_count": 428,
   "metadata": {},
   "outputs": [
    {
     "name": "stdout",
     "output_type": "stream",
     "text": [
      "(436, 376, 3)\n"
     ]
    }
   ],
   "source": [
    "height=450\n",
    "width=450\n",
    "path=\"Resources/1.jpg\"\n",
    "img = cv2.imread(path)\n",
    "print(img.shape)\n",
    "img = cv2.resize(img, (width, height))\n",
    "#cv2.imshow(\"original\",img)\n",
    "#cv2.waitKey(0)\n",
    "#cv2.destroyAllWindows()\n"
   ]
  },
  {
   "cell_type": "code",
   "execution_count": 429,
   "metadata": {},
   "outputs": [],
   "source": [
    "def img_preprocessing(img):\n",
    "    img_gray=cv2.cvtColor(img, cv2.COLOR_BGR2GRAY)\n",
    "    img_blur=cv2.GaussianBlur(img_gray, (5, 5), 3)\n",
    "    img_threshold=cv2.adaptiveThreshold(img_blur, 255, 1, 1, 11, 2)\n",
    "    return img_threshold"
   ]
  },
  {
   "cell_type": "code",
   "execution_count": 430,
   "metadata": {},
   "outputs": [
    {
     "name": "stdout",
     "output_type": "stream",
     "text": [
      "(450, 450)\n"
     ]
    }
   ],
   "source": [
    "img_final=img_preprocessing(img)\n",
    "#cv2.imshow(\"preprocessed\",backtorgb)\n",
    "cv2.waitKey(0)\n",
    "cv2.destroyAllWindows()\n",
    "print(img_final.shape)"
   ]
  },
  {
   "cell_type": "code",
   "execution_count": 431,
   "metadata": {},
   "outputs": [],
   "source": [
    "\n",
    "img_boundary=img.copy()\n",
    "img_bigContour=img.copy()\n",
    "contours, hierarchy=cv2.findContours(img_final, cv2.RETR_EXTERNAL, cv2.CHAIN_APPROX_SIMPLE)\n",
    "cv2.drawContours(img_boundary, contours, -1, (0, 255, 0), 3)\n",
    "cv2.imshow(\"contours\",img_boundary)\n",
    "cv2.waitKey(0)\n",
    "cv2.destroyAllWindows()"
   ]
  },
  {
   "cell_type": "code",
   "execution_count": 432,
   "metadata": {},
   "outputs": [
    {
     "name": "stdout",
     "output_type": "stream",
     "text": [
      "[[[101 164]]\n",
      "\n",
      " [[396 163]]\n",
      "\n",
      " [[101 418]]\n",
      "\n",
      " [[396 418]]]\n"
     ]
    }
   ],
   "source": [
    "def find_largest_contour(contours):\n",
    "    largest=np.array([])\n",
    "    max_area=0\n",
    "    for i in contours:\n",
    "        area=cv2.contourArea(i)\n",
    "        if area>50:\n",
    "            perimeter=cv2.arcLength(i, True)\n",
    "            vertices=cv2.approxPolyDP(i, 0.02*perimeter, True)\n",
    "            if area>max_area and len(vertices)==4:\n",
    "                largest=vertices\n",
    "                max_area=area\n",
    "    return largest, max_area\n",
    "\n",
    "def sort_vertices(largest):\n",
    "    largest=largest.reshape((4, 2))\n",
    "    newarr=np.zeros((4, 1, 2), dtype=np.int32)\n",
    "    add=largest.sum(1)\n",
    "    newarr[0]=largest[np.argmin(add)]\n",
    "    newarr[3]=largest[np.argmax(add)]\n",
    "    diff=np.diff(largest, axis=1)\n",
    "    newarr[1]=largest[np.argmin(diff)]\n",
    "    newarr[2]=largest[np.argmax(diff)]\n",
    "    return newarr\n",
    "\n",
    "largest, max_area=find_largest_contour(contours)\n",
    "largest1=sort_vertices(largest)\n",
    "print(largest1)\n",
    "cv2.drawContours(img_bigContour, largest1, -1, (0, 255, 0), 25)\n",
    "#cv2.imshow(\"contours\",img_bigContour)\n",
    "#cv2.waitKey(0)\n",
    "#cv2.destroyAllWindows()\n",
    "\n",
    "boundary_points=np.float32(largest1)\n",
    "virtual_points=np.float32([[0, 0],[width, 0], [0, height],[width, height]])"
   ]
  },
  {
   "cell_type": "code",
   "execution_count": 433,
   "metadata": {},
   "outputs": [],
   "source": [
    "matrix=cv2.getPerspectiveTransform(boundary_points, virtual_points)\n",
    "img_warp=cv2.warpPerspective(img, matrix, (width, height))\n",
    "img_warp=cv2.cvtColor(img_warp, cv2.COLOR_BGR2GRAY)\n",
    "cv2.imshow(\"warp\",img_warp)\n",
    "cv2.waitKey(0)\n",
    "cv2.destroyAllWindows()"
   ]
  },
  {
   "cell_type": "code",
   "execution_count": 434,
   "metadata": {},
   "outputs": [],
   "source": [
    "def split(img):\n",
    "    rows=np.vsplit(img, 9)\n",
    "    boxes=[]\n",
    "    for r in rows:\n",
    "        col=np.hsplit(r, 9)\n",
    "        for c in col:\n",
    "            boxes.append(c)\n",
    "    return boxes \n",
    "\n",
    "boxes=split(img_warp)\n",
    "#print(len(boxes))\n",
    "#cv2.imshow(\"box\", boxes[0])\n",
    "#cv2.waitKey(0)\n",
    "#cv2.destroyAllWindows()"
   ]
  },
  {
   "cell_type": "code",
   "execution_count": 435,
   "metadata": {},
   "outputs": [],
   "source": [
    "model = load_model('final_model.h5')"
   ]
  },
  {
   "cell_type": "code",
   "execution_count": 436,
   "metadata": {},
   "outputs": [],
   "source": [
    "result=[]\n",
    "for image in boxes:\n",
    "    img_pred=np.asarray(image)\n",
    "    img_pred = img_pred[4:img_pred.shape[0] - 4, 4:img_pred.shape[1] -4]\n",
    "    img_pred=cv2.resize(img_pred, (32, 32))\n",
    "    img_pred=img_pred/255\n",
    "    img_pred=img_pred.reshape(1, 32, 32, 1)\n",
    "    prediction=model.predict(img_pred)\n",
    "    predicted_number=model.predict_classes(img_pred)\n",
    "    prob=np.amax(prediction)\n",
    "    \n",
    "    if(prob>0.8):\n",
    "        result.append(predicted_number[0])\n",
    "    else:\n",
    "        result.append(0)"
   ]
  },
  {
   "cell_type": "code",
   "execution_count": 437,
   "metadata": {},
   "outputs": [
    {
     "name": "stdout",
     "output_type": "stream",
     "text": [
      "[2, 1, 0, 0, 6, 0, 9, 0, 0, 0, 0, 0, 0, 0, 9, 1, 0, 0, 4, 0, 9, 3, 1, 0, 0, 5, 8, 0, 0, 1, 0, 0, 5, 0, 4, 0, 9, 0, 4, 0, 3, 0, 8, 0, 5, 0, 5, 0, 2, 0, 0, 6, 0, 0, 3, 8, 0, 0, 4, 0, 5, 0, 6, 0, 0, 6, 7, 0, 0, 0, 0, 2, 0, 0, 7, 0, 8, 0, 3, 0, 9]\n"
     ]
    }
   ],
   "source": [
    "print(result)"
   ]
  },
  {
   "cell_type": "code",
   "execution_count": 438,
   "metadata": {},
   "outputs": [
    {
     "name": "stdout",
     "output_type": "stream",
     "text": [
      "(450, 450, 3)\n"
     ]
    }
   ],
   "source": [
    "print(img.shape)"
   ]
  },
  {
   "cell_type": "code",
   "execution_count": 439,
   "metadata": {},
   "outputs": [],
   "source": [
    "img_blank=np.zeros((height, width, 3), np.uint8)\n",
    "img_detected=img_blank.copy()"
   ]
  },
  {
   "cell_type": "code",
   "execution_count": 440,
   "metadata": {},
   "outputs": [],
   "source": [
    "def display_detected(img_detected, result, color = (255, 105, 180)):\n",
    "    secW = int(img_detected.shape[1]/9)\n",
    "    secH = int(img_detected.shape[0]/9)\n",
    "    for x in range (0,9):\n",
    "        for y in range (0,9):\n",
    "            if result[(y*9)+x] != 0 :\n",
    "                 cv2.putText(img_detected, str(result[(y*9)+x]),\n",
    "                               (x*secW+int(secW/2)-10, int((y+0.8)*secH)), cv2.FONT_HERSHEY_COMPLEX_SMALL,\n",
    "                            2, color, 2, cv2.LINE_AA)\n",
    "    return img_detected\n"
   ]
  },
  {
   "cell_type": "code",
   "execution_count": 441,
   "metadata": {},
   "outputs": [],
   "source": [
    "img_1=display_detected(img_detected, result, color=(255, 105, 180))\n",
    "cv2.imshow('detected', img_1)\n",
    "cv2.waitKey(0)\n",
    "cv2.destroyAllWindows()"
   ]
  },
  {
   "cell_type": "code",
   "execution_count": 442,
   "metadata": {},
   "outputs": [
    {
     "name": "stdout",
     "output_type": "stream",
     "text": [
      "[[[0 0 0]\n",
      "  [0 0 0]\n",
      "  [0 0 0]\n",
      "  ...\n",
      "  [0 0 0]\n",
      "  [0 0 0]\n",
      "  [0 0 0]]\n",
      "\n",
      " [[0 0 0]\n",
      "  [0 0 0]\n",
      "  [0 0 0]\n",
      "  ...\n",
      "  [0 0 0]\n",
      "  [0 0 0]\n",
      "  [0 0 0]]\n",
      "\n",
      " [[0 0 0]\n",
      "  [0 0 0]\n",
      "  [0 0 0]\n",
      "  ...\n",
      "  [0 0 0]\n",
      "  [0 0 0]\n",
      "  [0 0 0]]\n",
      "\n",
      " ...\n",
      "\n",
      " [[0 0 0]\n",
      "  [0 0 0]\n",
      "  [0 0 0]\n",
      "  ...\n",
      "  [0 0 0]\n",
      "  [0 0 0]\n",
      "  [0 0 0]]\n",
      "\n",
      " [[0 0 0]\n",
      "  [0 0 0]\n",
      "  [0 0 0]\n",
      "  ...\n",
      "  [0 0 0]\n",
      "  [0 0 0]\n",
      "  [0 0 0]]\n",
      "\n",
      " [[0 0 0]\n",
      "  [0 0 0]\n",
      "  [0 0 0]\n",
      "  ...\n",
      "  [0 0 0]\n",
      "  [0 0 0]\n",
      "  [0 0 0]]]\n"
     ]
    }
   ],
   "source": [
    "print(img_1)"
   ]
  },
  {
   "cell_type": "code",
   "execution_count": 443,
   "metadata": {},
   "outputs": [
    {
     "name": "stdout",
     "output_type": "stream",
     "text": [
      "[0 0 1 1 0 1 0 1 1 1 1 1 1 1 0 0 1 1 0 1 0 0 0 1 1 0 0 1 1 0 1 1 0 1 0 1 0\n",
      " 1 0 1 0 1 0 1 0 1 0 1 0 1 1 0 1 1 0 0 1 1 0 1 0 1 0 1 1 0 0 1 1 1 1 0 1 1\n",
      " 0 1 0 1 0 1 0]\n"
     ]
    }
   ],
   "source": [
    "result=np.asarray(result)\n",
    "pos_array=np.where(result>0, 0, 1)\n",
    "print(pos_array)"
   ]
  },
  {
   "cell_type": "code",
   "execution_count": 444,
   "metadata": {},
   "outputs": [
    {
     "name": "stdout",
     "output_type": "stream",
     "text": [
      "[array([2, 1, 5, 4, 6, 8, 9, 3, 7], dtype=int64), array([7, 3, 8, 5, 2, 9, 1, 6, 4], dtype=int64), array([4, 6, 9, 3, 1, 7, 2, 5, 8], dtype=int64), array([6, 2, 1, 8, 9, 5, 7, 4, 3], dtype=int64), array([9, 7, 4, 1, 3, 6, 8, 2, 5], dtype=int64), array([8, 5, 3, 2, 7, 4, 6, 9, 1], dtype=int64), array([3, 8, 2, 9, 4, 1, 5, 7, 6], dtype=int64), array([1, 9, 6, 7, 5, 3, 4, 8, 2], dtype=int64), array([5, 4, 7, 6, 8, 2, 3, 1, 9], dtype=int64)]\n"
     ]
    }
   ],
   "source": [
    "import Sudoku\n",
    "puzzle=np.array_split(result, 9)\n",
    "\n",
    "\n",
    "try:\n",
    "    Sudoku.solve(puzzle)\n",
    "except:\n",
    "    pass\n",
    "print(puzzle)\n",
    "    "
   ]
  },
  {
   "cell_type": "code",
   "execution_count": 453,
   "metadata": {},
   "outputs": [
    {
     "name": "stdout",
     "output_type": "stream",
     "text": [
      "[0 0 5 4 0 8 0 3 7 7 3 8 5 2 0 0 6 4 0 6 0 0 0 7 2 0 0 6 2 0 8 9 0 7 0 3 0\n",
      " 7 0 1 0 6 0 2 0 8 0 3 0 7 4 0 9 1 0 0 2 9 0 1 0 7 0 1 9 0 0 5 3 4 8 0 5 4\n",
      " 0 6 0 2 0 1 0]\n"
     ]
    }
   ],
   "source": [
    "arr=[]\n",
    "for i in puzzle:\n",
    "    for j in i:\n",
    "        arr.append(j)\n",
    "solved=arr*pos_array\n",
    "print(solved)\n",
    "img_solved=img_blank.copy()\n",
    "img_solved=display_detected(img_solved, solved, color=(0, 255, 0))\n",
    "cv2.imshow('solved', img_solved)\n",
    "cv2.waitKey(0)\n",
    "cv2.destroyAllWindows()"
   ]
  },
  {
   "cell_type": "code",
   "execution_count": 454,
   "metadata": {},
   "outputs": [],
   "source": [
    "def drawGrid(img):\n",
    "    secW = int(img.shape[1]/9)\n",
    "    secH = int(img.shape[0]/9)\n",
    "    for i in range (0,9):\n",
    "        pt1 = (0,secH*i)\n",
    "        pt2 = (img.shape[1],secH*i)\n",
    "        pt3 = (secW * i, 0)\n",
    "        pt4 = (secW*i,img.shape[0])\n",
    "        cv2.line(img, pt1, pt2, (255, 255, 0),2)\n",
    "        cv2.line(img, pt3, pt4, (255, 255, 0),2)\n",
    "    return img"
   ]
  },
  {
   "cell_type": "code",
   "execution_count": 455,
   "metadata": {},
   "outputs": [],
   "source": [
    "virtual_points=np.float32(largest1) # PREPARE POINTS FOR WARP\n",
    "boundary_points=np.float32([[0, 0],[width, 0], [0, height],[width, height]]) # PREPARE POINTS FOR WARP"
   ]
  },
  {
   "cell_type": "code",
   "execution_count": 456,
   "metadata": {},
   "outputs": [],
   "source": [
    "\n",
    "matrix=cv2.getPerspectiveTransform(boundary_points, virtual_points)\n",
    "img_inverse_warp=img.copy()\n",
    "img_inverse_warp=cv2.warpPerspective(img_solved, matrix, (width, height))\n",
    "inv_perspective = cv2.addWeighted(img_inverse_warp, 1, img, 0.5, 1)\n",
    "img_detected=drawGrid(img_detected)\n",
    "img_solved=drawGrid(img_solved)\n",
    "cv2.imshow('detected', img_detected)\n",
    "cv2.waitKey(0)\n",
    "cv2.destroyAllWindows()"
   ]
  },
  {
   "cell_type": "code",
   "execution_count": 457,
   "metadata": {},
   "outputs": [],
   "source": [
    "cv2.imshow('solved', img_solved)\n",
    "cv2.waitKey(0)\n",
    "cv2.destroyAllWindows()"
   ]
  },
  {
   "cell_type": "code",
   "execution_count": 458,
   "metadata": {},
   "outputs": [
    {
     "name": "stdout",
     "output_type": "stream",
     "text": [
      "(450, 450, 3) (450, 450, 3)\n"
     ]
    }
   ],
   "source": [
    "print(img_inverse_warp.shape, img.shape)"
   ]
  },
  {
   "cell_type": "code",
   "execution_count": 459,
   "metadata": {},
   "outputs": [],
   "source": [
    "cv2.imshow('inverse_warp', inv_perspective)\n",
    "cv2.waitKey(0)\n",
    "cv2.destroyAllWindows()"
   ]
  },
  {
   "cell_type": "code",
   "execution_count": null,
   "metadata": {},
   "outputs": [],
   "source": []
  }
 ],
 "metadata": {
  "kernelspec": {
   "display_name": "Python 3",
   "language": "python",
   "name": "python3"
  },
  "language_info": {
   "codemirror_mode": {
    "name": "ipython",
    "version": 3
   },
   "file_extension": ".py",
   "mimetype": "text/x-python",
   "name": "python",
   "nbconvert_exporter": "python",
   "pygments_lexer": "ipython3",
   "version": "3.7.6"
  }
 },
 "nbformat": 4,
 "nbformat_minor": 4
}
